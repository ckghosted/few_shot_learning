{
 "cells": [
  {
   "cell_type": "code",
   "execution_count": 1,
   "metadata": {},
   "outputs": [
    {
     "name": "stderr",
     "output_type": "stream",
     "text": [
      "/usr/local/lib/python3.5/dist-packages/h5py/__init__.py:34: FutureWarning: Conversion of the second argument of issubdtype from `float` to `np.floating` is deprecated. In future, it will be treated as `np.float64 == np.dtype(float).type`.\n",
      "  from ._conv import register_converters as _register_converters\n"
     ]
    }
   ],
   "source": [
    "import tensorflow as tf\n",
    "import numpy as np\n",
    "from model_mn import MATCH_NET\n",
    "import time\n",
    "import os, re, glob\n",
    "os.environ['CUDA_VISIBLE_DEVICES'] = '3'\n",
    "import skimage\n",
    "import skimage.io\n",
    "\n",
    "import warnings\n",
    "warnings.simplefilter('ignore')"
   ]
  },
  {
   "cell_type": "code",
   "execution_count": 2,
   "metadata": {
    "collapsed": true
   },
   "outputs": [],
   "source": [
    "# back_path = '/data/put_data/cclin/datasets/omniglot/python/images_background/'\n",
    "# eval_path = '/data/put_data/cclin/datasets/omniglot/python/images_evaluation/'\n",
    "image_path = '/data/put_data/cclin/datasets/omniglot/python/images_all/'"
   ]
  },
  {
   "cell_type": "code",
   "execution_count": 3,
   "metadata": {
    "collapsed": true
   },
   "outputs": [],
   "source": [
    "use_conv = False\n",
    "refresh = 1e3\n",
    "drawing_per_char = 20\n",
    "mb_dim = 32 #training examples per minibatch\n",
    "x_dim = 28  #size of one side of square image\n",
    "y_dim = 5  #possible classes\n",
    "n_samples_per_class = 1 #samples of each class\n",
    "n_samples = y_dim*n_samples_per_class #total number of labeled samples\n",
    "eps = 1e-10 #term added for numerical stability of log computations\n",
    "tie = False #tie the weights of the query network to the labeled network\n",
    "x_i_learn = True #toggle learning for the query network\n",
    "learning_rate = 4e-5 #1e-1"
   ]
  },
  {
   "cell_type": "code",
   "execution_count": 4,
   "metadata": {
    "collapsed": true
   },
   "outputs": [],
   "source": [
    "dir_name = 'test1'"
   ]
  },
  {
   "cell_type": "code",
   "execution_count": 5,
   "metadata": {
    "collapsed": true
   },
   "outputs": [],
   "source": [
    "from ops import *\n",
    "from utils import *"
   ]
  },
  {
   "cell_type": "markdown",
   "metadata": {},
   "source": [
    "## (1) Data Preparation and Visualization"
   ]
  },
  {
   "cell_type": "code",
   "execution_count": 6,
   "metadata": {
    "collapsed": true
   },
   "outputs": [],
   "source": [
    "import matplotlib.pyplot as plt\n",
    "import matplotlib.gridspec as gridspec\n",
    "%matplotlib inline\n",
    "\n",
    "def plot(samples, n_row, n_col):\n",
    "    fig = plt.figure(figsize=(n_col*2, n_row*2))\n",
    "    gs = gridspec.GridSpec(n_row, n_col)\n",
    "    gs.update(wspace=0.05, hspace=0.05)\n",
    "    for i, sample in enumerate(samples):\n",
    "        ax = plt.subplot(gs[i])\n",
    "        plt.axis('off')\n",
    "        ax.set_xticklabels([])\n",
    "        ax.set_yticklabels([])\n",
    "        ax.set_aspect('equal')\n",
    "        plt.imshow(sample.reshape(x_dim, x_dim), cmap='gray')\n",
    "    return fig"
   ]
  },
  {
   "cell_type": "code",
   "execution_count": 7,
   "metadata": {
    "collapsed": true
   },
   "outputs": [],
   "source": [
    "arr = np.arange(1623)\n",
    "np.random.shuffle(arr)"
   ]
  },
  {
   "cell_type": "code",
   "execution_count": 8,
   "metadata": {},
   "outputs": [
    {
     "name": "stdout",
     "output_type": "stream",
     "text": [
      "(1623, 2)\n",
      "1623\n"
     ]
    }
   ],
   "source": [
    "## make filepath-label array.\n",
    "## E.g., [['/data/put_data/cclin/datasets/omniglot/python/images_all/Alphabet_of_the_Magi/character01', 0],\n",
    "##        ['/data/put_data/cclin/datasets/omniglot/python/images_all/Alphabet_of_the_Magi/character02', 1],\n",
    "##        ...,\n",
    "##        ['/data/put_data/cclin/datasets/omniglot/python/images_all/ULOG/character26', 1622]]\n",
    "## shape: (1623, 2)\n",
    "label_idx = 0\n",
    "list_all = []\n",
    "alphabet_list = np.sort(os.listdir(image_path))\n",
    "for alphabet in alphabet_list:\n",
    "    alphabet_path = os.path.join(image_path, alphabet)\n",
    "    char_list = np.sort(os.listdir(alphabet_path))\n",
    "    for char in char_list:\n",
    "        char_path = os.path.join(image_path, alphabet, char)\n",
    "        list_all.append([os.path.join(image_path, alphabet, char), label_idx])\n",
    "        label_idx = label_idx + 1\n",
    "list_all = np.asarray(list_all)\n",
    "print(list_all.shape)\n",
    "print(len(np.unique(list_all[:,1])))"
   ]
  },
  {
   "cell_type": "code",
   "execution_count": 9,
   "metadata": {},
   "outputs": [
    {
     "name": "stdout",
     "output_type": "stream",
     "text": [
      "First 10 training labels: [ 675 1345  774  599  841  502  471  533  474  885]\n",
      "    /data/put_data/cclin/datasets/omniglot/python/images_all/Gujarati/character33\n",
      "    /data/put_data/cclin/datasets/omniglot/python/images_all/Sanskrit/character04\n",
      "    /data/put_data/cclin/datasets/omniglot/python/images_all/Japanese_(hiragana)/character01\n",
      "    /data/put_data/cclin/datasets/omniglot/python/images_all/Grantha/character24\n",
      "    /data/put_data/cclin/datasets/omniglot/python/images_all/Japanese_(katakana)/character16\n",
      "    /data/put_data/cclin/datasets/omniglot/python/images_all/Futurama/character24\n",
      "    /data/put_data/cclin/datasets/omniglot/python/images_all/Early_Aramaic/character15\n",
      "    /data/put_data/cclin/datasets/omniglot/python/images_all/Glagolitic/character03\n",
      "    /data/put_data/cclin/datasets/omniglot/python/images_all/Early_Aramaic/character18\n",
      "    /data/put_data/cclin/datasets/omniglot/python/images_all/Kannada/character13\n",
      "First 10 testing labels: [ 437 1454 1417  388  534 1445  626 1371 1186  594]\n",
      "    /data/put_data/cclin/datasets/omniglot/python/images_all/Cyrillic/character14\n",
      "    /data/put_data/cclin/datasets/omniglot/python/images_all/Syriac_(Serto)/character20\n",
      "    /data/put_data/cclin/datasets/omniglot/python/images_all/Syriac_(Estrangelo)/character06\n",
      "    /data/put_data/cclin/datasets/omniglot/python/images_all/Braille/character25\n",
      "    /data/put_data/cclin/datasets/omniglot/python/images_all/Glagolitic/character04\n",
      "    /data/put_data/cclin/datasets/omniglot/python/images_all/Syriac_(Serto)/character11\n",
      "    /data/put_data/cclin/datasets/omniglot/python/images_all/Greek/character08\n",
      "    /data/put_data/cclin/datasets/omniglot/python/images_all/Sanskrit/character30\n",
      "    /data/put_data/cclin/datasets/omniglot/python/images_all/Mongolian/character13\n",
      "    /data/put_data/cclin/datasets/omniglot/python/images_all/Grantha/character19\n"
     ]
    }
   ],
   "source": [
    "## randomly choose 1200 characters for training\n",
    "## note: 'arr' is a randomly shuffled list containing {0, 1, ..., 1622}\n",
    "keys_train = arr[:1200]\n",
    "print('First 10 training labels: %s' % keys_train[:10])\n",
    "for i in range(10):\n",
    "    print('    %s' % list_all[keys_train[i]][0])\n",
    "keys_test = arr[1200:]\n",
    "print('First 10 testing labels: %s' % keys_test[:10])\n",
    "for i in range(10):\n",
    "    print('    %s' % list_all[keys_test[i]][0])"
   ]
  },
  {
   "cell_type": "code",
   "execution_count": 10,
   "metadata": {},
   "outputs": [
    {
     "data": {
      "image/png": "[encoded data removed]",
      "text/plain": [
       "<matplotlib.figure.Figure at 0x7f19cbda7a20>"
      ]
     },
     "metadata": {},
     "output_type": "display_data"
    },
    {
     "data": {
      "image/png": "[encoded data removed]",
      "text/plain": [
       "<matplotlib.figure.Figure at 0x7f19cbdfaf28>"
      ]
     },
     "metadata": {},
     "output_type": "display_data"
    }
   ],
   "source": [
    "## show some examples (resize to 28x28)\n",
    "images = []\n",
    "for i in range(10):\n",
    "    image_list = np.sort(glob.glob(os.path.join(list_all[keys_train[i]][0], '*.png')))\n",
    "    ### note: both get_image() and transform() are from utils.py\n",
    "    images.append(transform(get_image(image_list[0]), 105, 105, resize_height=x_dim, resize_width=x_dim, crop=False))\n",
    "fig = plot(images, 2, 5)\n",
    "fig.suptitle('Training examples')\n",
    "fig.show()\n",
    "\n",
    "images = []\n",
    "for i in range(10):\n",
    "    image_list = np.sort(glob.glob(os.path.join(list_all[keys_test[i]][0], '*.png')))\n",
    "    ### note: both get_image() and transform() are from utils.py\n",
    "    images.append(transform(get_image(image_list[0]), 105, 105, resize_height=x_dim, resize_width=x_dim, crop=False))\n",
    "fig = plot(images, 2, 5)\n",
    "fig.suptitle('Testing examples')\n",
    "fig.show()"
   ]
  },
  {
   "cell_type": "code",
   "execution_count": 11,
   "metadata": {},
   "outputs": [
    {
     "name": "stdout",
     "output_type": "stream",
     "text": [
      "[['/data/put_data/cclin/datasets/omniglot/python/images_all/Gujarati/character33'\n",
      "  '675']\n",
      " ['/data/put_data/cclin/datasets/omniglot/python/images_all/Sanskrit/character04'\n",
      "  '1345']\n",
      " ['/data/put_data/cclin/datasets/omniglot/python/images_all/Japanese_(hiragana)/character01'\n",
      "  '774']\n",
      " ...\n",
      " ['/data/put_data/cclin/datasets/omniglot/python/images_all/Braille/character08'\n",
      "  '371']\n",
      " ['/data/put_data/cclin/datasets/omniglot/python/images_all/Tifinagh/character34'\n",
      "  '1575']\n",
      " ['/data/put_data/cclin/datasets/omniglot/python/images_all/Oriya/character29'\n",
      "  '1324']]\n",
      "['675' '1345' '774' ... '371' '1575' '1324']\n",
      "1200\n"
     ]
    }
   ],
   "source": [
    "## use data format 2, with two lists (training and testing)\n",
    "list_train = list_all[keys_train]\n",
    "list_test = list_all[keys_test]\n",
    "print(list_train)\n",
    "print(list_train[:,1])\n",
    "print(list_train.shape[0])"
   ]
  },
  {
   "cell_type": "markdown",
   "metadata": {},
   "source": [
    "## (2) Training"
   ]
  },
  {
   "cell_type": "code",
   "execution_count": 12,
   "metadata": {
    "collapsed": true
   },
   "outputs": [],
   "source": [
    "num_epoch = 1e4\n",
    "Batch_Size = 32\n",
    "learning_rate = 4e-5"
   ]
  },
  {
   "cell_type": "code",
   "execution_count": 13,
   "metadata": {
    "scrolled": true
   },
   "outputs": [
    {
     "name": "stdout",
     "output_type": "stream",
     "text": [
      "WARNING: the folder \"test1/test1\" already exists!\n",
      "epoch: 100 | train_loss: 1.2196167 | train_acc: 0.46875 | test_loss: 1.0622087 | test_acc: 0.625\n",
      "epoch: 200 | train_loss: 0.9755944 | train_acc: 0.71875 | test_loss: 1.0474561 | test_acc: 0.59375\n",
      "epoch: 300 | train_loss: 0.91994464 | train_acc: 0.59375 | test_loss: 1.0681162 | test_acc: 0.59375\n",
      "epoch: 400 | train_loss: 1.068712 | train_acc: 0.625 | test_loss: 0.8785274 | test_acc: 0.71875\n",
      "epoch: 500 | train_loss: 0.8281989 | train_acc: 0.65625 | test_loss: 0.9062449 | test_acc: 0.75\n",
      "epoch: 600 | train_loss: 0.90214205 | train_acc: 0.59375 | test_loss: 0.8386211 | test_acc: 0.71875\n",
      "epoch: 700 | train_loss: 0.6968092 | train_acc: 0.71875 | test_loss: 1.175207 | test_acc: 0.59375\n",
      "epoch: 800 | train_loss: 0.8095088 | train_acc: 0.75 | test_loss: 0.819168 | test_acc: 0.625\n",
      "epoch: 900 | train_loss: 0.875419 | train_acc: 0.5625 | test_loss: 0.7012607 | test_acc: 0.8125\n",
      "epoch: 1000 | train_loss: 0.83525896 | train_acc: 0.625 | test_loss: 0.7746078 | test_acc: 0.75\n",
      "epoch: 1100 | train_loss: 0.6454644 | train_acc: 0.8125 | test_loss: 0.85913223 | test_acc: 0.71875\n",
      "epoch: 1200 | train_loss: 0.6434548 | train_acc: 0.75 | test_loss: 0.6416764 | test_acc: 0.71875\n",
      "epoch: 1300 | train_loss: 0.6673519 | train_acc: 0.75 | test_loss: 0.5564836 | test_acc: 0.78125\n",
      "epoch: 1400 | train_loss: 0.7177893 | train_acc: 0.78125 | test_loss: 0.7076616 | test_acc: 0.65625\n",
      "epoch: 1500 | train_loss: 0.76865554 | train_acc: 0.75 | test_loss: 0.60090595 | test_acc: 0.75\n",
      "epoch: 1600 | train_loss: 0.66830695 | train_acc: 0.78125 | test_loss: 0.5948793 | test_acc: 0.71875\n",
      "epoch: 1700 | train_loss: 0.6840451 | train_acc: 0.78125 | test_loss: 0.57998884 | test_acc: 0.8125\n",
      "epoch: 1800 | train_loss: 0.6174635 | train_acc: 0.875 | test_loss: 0.5473607 | test_acc: 0.84375\n",
      "epoch: 1900 | train_loss: 0.593616 | train_acc: 0.78125 | test_loss: 0.7218298 | test_acc: 0.71875\n",
      "epoch: 2000 | train_loss: 0.63864625 | train_acc: 0.6875 | test_loss: 0.593367 | test_acc: 0.8125\n",
      "epoch: 2100 | train_loss: 0.77131486 | train_acc: 0.6875 | test_loss: 0.5903604 | test_acc: 0.78125\n",
      "epoch: 2200 | train_loss: 0.7618413 | train_acc: 0.65625 | test_loss: 0.5156429 | test_acc: 0.84375\n",
      "epoch: 2300 | train_loss: 0.49386436 | train_acc: 0.8125 | test_loss: 0.6365043 | test_acc: 0.75\n",
      "epoch: 2400 | train_loss: 0.7140975 | train_acc: 0.75 | test_loss: 0.7105269 | test_acc: 0.625\n",
      "epoch: 2500 | train_loss: 0.49640217 | train_acc: 0.84375 | test_loss: 0.5555606 | test_acc: 0.78125\n",
      "epoch: 2600 | train_loss: 0.7608001 | train_acc: 0.78125 | test_loss: 0.5429398 | test_acc: 0.8125\n",
      "epoch: 2700 | train_loss: 0.516835 | train_acc: 0.8125 | test_loss: 0.43962294 | test_acc: 0.90625\n",
      "epoch: 2800 | train_loss: 0.6621065 | train_acc: 0.71875 | test_loss: 0.596308 | test_acc: 0.78125\n",
      "epoch: 2900 | train_loss: 0.44004616 | train_acc: 0.875 | test_loss: 0.50249434 | test_acc: 0.84375\n",
      "epoch: 3000 | train_loss: 0.6375315 | train_acc: 0.8125 | test_loss: 0.44646686 | test_acc: 0.78125\n",
      "epoch: 3100 | train_loss: 0.368442 | train_acc: 0.90625 | test_loss: 0.5689322 | test_acc: 0.8125\n",
      "epoch: 3200 | train_loss: 0.48038766 | train_acc: 0.8125 | test_loss: 0.6598324 | test_acc: 0.71875\n",
      "epoch: 3300 | train_loss: 0.6327086 | train_acc: 0.8125 | test_loss: 0.43869907 | test_acc: 0.8125\n",
      "epoch: 3400 | train_loss: 0.4600835 | train_acc: 0.84375 | test_loss: 0.421974 | test_acc: 0.90625\n",
      "epoch: 3500 | train_loss: 0.54742754 | train_acc: 0.875 | test_loss: 0.67616886 | test_acc: 0.8125\n",
      "epoch: 3600 | train_loss: 0.4660573 | train_acc: 0.8125 | test_loss: 0.59889376 | test_acc: 0.8125\n",
      "epoch: 3700 | train_loss: 0.48003933 | train_acc: 0.90625 | test_loss: 0.5715183 | test_acc: 0.71875\n",
      "epoch: 3800 | train_loss: 0.40758336 | train_acc: 0.9375 | test_loss: 0.46633184 | test_acc: 0.84375\n",
      "epoch: 3900 | train_loss: 0.59983766 | train_acc: 0.65625 | test_loss: 0.30481133 | test_acc: 0.96875\n",
      "epoch: 4000 | train_loss: 0.5046444 | train_acc: 0.78125 | test_loss: 0.5391531 | test_acc: 0.6875\n",
      "epoch: 4100 | train_loss: 0.62082064 | train_acc: 0.78125 | test_loss: 0.4508235 | test_acc: 0.84375\n",
      "epoch: 4200 | train_loss: 0.45235196 | train_acc: 0.84375 | test_loss: 0.36731273 | test_acc: 0.90625\n",
      "epoch: 4300 | train_loss: 0.4996306 | train_acc: 0.8125 | test_loss: 0.27257642 | test_acc: 0.96875\n",
      "epoch: 4400 | train_loss: 0.36849067 | train_acc: 0.9375 | test_loss: 0.355853 | test_acc: 0.90625\n",
      "epoch: 4500 | train_loss: 0.5067247 | train_acc: 0.875 | test_loss: 0.40924275 | test_acc: 0.90625\n",
      "epoch: 4600 | train_loss: 0.5154166 | train_acc: 0.78125 | test_loss: 0.5281592 | test_acc: 0.84375\n",
      "epoch: 4700 | train_loss: 0.64799047 | train_acc: 0.8125 | test_loss: 0.6613145 | test_acc: 0.8125\n",
      "epoch: 4800 | train_loss: 0.55194676 | train_acc: 0.78125 | test_loss: 0.4453314 | test_acc: 0.9375\n",
      "epoch: 4900 | train_loss: 0.5451425 | train_acc: 0.84375 | test_loss: 0.46634775 | test_acc: 0.84375\n",
      "epoch: 5000 | train_loss: 0.5504228 | train_acc: 0.875 | test_loss: 0.4187145 | test_acc: 0.875\n",
      "epoch: 5100 | train_loss: 0.58467907 | train_acc: 0.8125 | test_loss: 0.35677725 | test_acc: 0.90625\n",
      "epoch: 5200 | train_loss: 0.52267575 | train_acc: 0.75 | test_loss: 0.5643153 | test_acc: 0.84375\n",
      "epoch: 5300 | train_loss: 0.4304273 | train_acc: 0.8125 | test_loss: 0.62725645 | test_acc: 0.8125\n",
      "epoch: 5400 | train_loss: 0.62976336 | train_acc: 0.75 | test_loss: 0.43572888 | test_acc: 0.90625\n",
      "epoch: 5500 | train_loss: 0.2989092 | train_acc: 0.9375 | test_loss: 0.37164295 | test_acc: 0.90625\n",
      "epoch: 5600 | train_loss: 0.37423244 | train_acc: 0.84375 | test_loss: 0.5620899 | test_acc: 0.75\n",
      "epoch: 5700 | train_loss: 0.4976199 | train_acc: 0.8125 | test_loss: 0.49909276 | test_acc: 0.875\n",
      "epoch: 5800 | train_loss: 0.46556574 | train_acc: 0.84375 | test_loss: 0.43364236 | test_acc: 0.78125\n",
      "epoch: 5900 | train_loss: 0.36946523 | train_acc: 0.90625 | test_loss: 0.56513846 | test_acc: 0.8125\n",
      "epoch: 6000 | train_loss: 0.48330495 | train_acc: 0.78125 | test_loss: 0.36892372 | test_acc: 0.84375\n",
      "epoch: 6100 | train_loss: 0.29135776 | train_acc: 0.96875 | test_loss: 0.4360087 | test_acc: 0.875\n",
      "epoch: 6200 | train_loss: 0.409567 | train_acc: 0.875 | test_loss: 0.36056006 | test_acc: 0.90625\n",
      "epoch: 6300 | train_loss: 0.3635659 | train_acc: 0.875 | test_loss: 0.29562366 | test_acc: 0.9375\n",
      "epoch: 6400 | train_loss: 0.46714175 | train_acc: 0.875 | test_loss: 0.4554192 | test_acc: 0.875\n",
      "epoch: 6500 | train_loss: 0.40685347 | train_acc: 0.90625 | test_loss: 0.28991982 | test_acc: 0.9375\n",
      "epoch: 6600 | train_loss: 0.45083988 | train_acc: 0.84375 | test_loss: 0.42292833 | test_acc: 0.84375\n",
      "epoch: 6700 | train_loss: 0.56775266 | train_acc: 0.78125 | test_loss: 0.27538896 | test_acc: 0.90625\n",
      "epoch: 6800 | train_loss: 0.50657725 | train_acc: 0.8125 | test_loss: 0.3404934 | test_acc: 0.90625\n",
      "epoch: 6900 | train_loss: 0.49448058 | train_acc: 0.8125 | test_loss: 0.4022273 | test_acc: 0.8125\n",
      "epoch: 7000 | train_loss: 0.3543737 | train_acc: 0.90625 | test_loss: 0.3293368 | test_acc: 0.90625\n",
      "epoch: 7100 | train_loss: 0.31137455 | train_acc: 0.9375 | test_loss: 0.24196124 | test_acc: 0.9375\n",
      "epoch: 7200 | train_loss: 0.43449163 | train_acc: 0.90625 | test_loss: 0.60587025 | test_acc: 0.84375\n",
      "epoch: 7300 | train_loss: 0.31979144 | train_acc: 0.9375 | test_loss: 0.38246247 | test_acc: 0.84375\n",
      "epoch: 7400 | train_loss: 0.45967156 | train_acc: 0.8125 | test_loss: 0.4420382 | test_acc: 0.84375\n",
      "epoch: 7500 | train_loss: 0.54817855 | train_acc: 0.8125 | test_loss: 0.2820578 | test_acc: 0.96875\n",
      "epoch: 7600 | train_loss: 0.32585037 | train_acc: 0.9375 | test_loss: 0.3086888 | test_acc: 0.9375\n",
      "epoch: 7700 | train_loss: 0.3908583 | train_acc: 0.84375 | test_loss: 0.57061577 | test_acc: 0.71875\n",
      "epoch: 7800 | train_loss: 0.34567356 | train_acc: 0.90625 | test_loss: 0.38316673 | test_acc: 0.90625\n",
      "epoch: 7900 | train_loss: 0.471879 | train_acc: 0.875 | test_loss: 0.22848542 | test_acc: 0.96875\n",
      "epoch: 8000 | train_loss: 0.40068114 | train_acc: 0.875 | test_loss: 0.27347237 | test_acc: 0.90625\n",
      "epoch: 8100 | train_loss: 0.33750314 | train_acc: 0.84375 | test_loss: 0.45765594 | test_acc: 0.875\n",
      "epoch: 8200 | train_loss: 0.3056482 | train_acc: 0.9375 | test_loss: 0.26351324 | test_acc: 0.90625\n",
      "epoch: 8300 | train_loss: 0.55340815 | train_acc: 0.71875 | test_loss: 0.30127284 | test_acc: 0.90625\n"
     ]
    },
    {
     "name": "stdout",
     "output_type": "stream",
     "text": [
      "epoch: 8400 | train_loss: 0.4299169 | train_acc: 0.78125 | test_loss: 0.2165308 | test_acc: 0.9375\n",
      "epoch: 8500 | train_loss: 0.29861492 | train_acc: 0.9375 | test_loss: 0.28848785 | test_acc: 0.90625\n",
      "epoch: 8600 | train_loss: 0.18976107 | train_acc: 0.96875 | test_loss: 0.3356085 | test_acc: 0.9375\n",
      "epoch: 8700 | train_loss: 0.39913428 | train_acc: 0.90625 | test_loss: 0.2752135 | test_acc: 0.9375\n",
      "epoch: 8800 | train_loss: 0.3971042 | train_acc: 0.875 | test_loss: 0.4209565 | test_acc: 0.9375\n",
      "epoch: 8900 | train_loss: 0.33784658 | train_acc: 0.90625 | test_loss: 0.49882492 | test_acc: 0.84375\n",
      "epoch: 9000 | train_loss: 0.1900986 | train_acc: 0.9375 | test_loss: 0.38391984 | test_acc: 0.875\n",
      "epoch: 9100 | train_loss: 0.34402624 | train_acc: 0.90625 | test_loss: 0.38498133 | test_acc: 0.78125\n",
      "epoch: 9200 | train_loss: 0.38433737 | train_acc: 0.875 | test_loss: 0.29944968 | test_acc: 0.90625\n",
      "epoch: 9300 | train_loss: 0.40956187 | train_acc: 0.84375 | test_loss: 0.3602237 | test_acc: 0.875\n",
      "epoch: 9400 | train_loss: 0.3789025 | train_acc: 0.875 | test_loss: 0.36258018 | test_acc: 0.875\n",
      "epoch: 9500 | train_loss: 0.36101046 | train_acc: 0.875 | test_loss: 0.25815743 | test_acc: 0.875\n",
      "epoch: 9600 | train_loss: 0.31624895 | train_acc: 0.90625 | test_loss: 0.36940444 | test_acc: 0.875\n",
      "epoch: 9700 | train_loss: 0.2248103 | train_acc: 0.96875 | test_loss: 0.26883507 | test_acc: 0.875\n",
      "epoch: 9800 | train_loss: 0.3081012 | train_acc: 0.90625 | test_loss: 0.2314645 | test_acc: 0.96875\n",
      "epoch: 9900 | train_loss: 0.34982824 | train_acc: 0.90625 | test_loss: 0.33326316 | test_acc: 0.90625\n",
      "epoch: 10000 | train_loss: 0.34512305 | train_acc: 0.875 | test_loss: 0.34397638 | test_acc: 0.84375\n"
     ]
    }
   ],
   "source": [
    "tf.reset_default_graph()\n",
    "\n",
    "with tf.Session() as sess:\n",
    "    net = MATCH_NET(sess,\n",
    "                    model_name=dir_name)\n",
    "    net.build_model()\n",
    "    results = net.train(list_train=list_train,\n",
    "                        list_test=list_test,\n",
    "                        nEpochs=num_epoch,\n",
    "                        bsize=Batch_Size,\n",
    "                        learning_rate_start=learning_rate)"
   ]
  },
  {
   "cell_type": "code",
   "execution_count": null,
   "metadata": {
    "collapsed": true
   },
   "outputs": [],
   "source": []
  }
 ],
 "metadata": {
  "kernelspec": {
   "display_name": "Python 3",
   "language": "python",
   "name": "python3"
  },
  "language_info": {
   "codemirror_mode": {
    "name": "ipython",
    "version": 3
   },
   "file_extension": ".py",
   "mimetype": "text/x-python",
   "name": "python",
   "nbconvert_exporter": "python",
   "pygments_lexer": "ipython3",
   "version": "3.5.2"
  }
 },
 "nbformat": 4,
 "nbformat_minor": 2
}
