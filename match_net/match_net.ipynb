{
 "cells": [
  {
   "cell_type": "code",
   "execution_count": 1,
   "metadata": {},
   "outputs": [
    {
     "name": "stderr",
     "output_type": "stream",
     "text": [
      "/usr/local/lib/python3.5/dist-packages/h5py/__init__.py:34: FutureWarning: Conversion of the second argument of issubdtype from `float` to `np.floating` is deprecated. In future, it will be treated as `np.float64 == np.dtype(float).type`.\n",
      "  from ._conv import register_converters as _register_converters\n"
     ]
    }
   ],
   "source": [
    "import tensorflow as tf\n",
    "import numpy as np\n",
    "from model_mn import MATCH_NET\n",
    "import time\n",
    "import os, re, glob\n",
    "os.environ['CUDA_VISIBLE_DEVICES'] = '0'\n",
    "import skimage\n",
    "import skimage.io\n",
    "\n",
    "import warnings\n",
    "warnings.simplefilter('ignore')\n",
    "\n",
    "from ops import *\n",
    "from utils import *"
   ]
  },
  {
   "cell_type": "markdown",
   "metadata": {},
   "source": [
    "## (0) Specify paths and hyperparameters"
   ]
  },
  {
   "cell_type": "code",
   "execution_count": 2,
   "metadata": {
    "collapsed": true
   },
   "outputs": [],
   "source": [
    "image_path = '/data/put_data/cclin/datasets/omniglot/python/images_all'\n",
    "result_path = '/home/cclin/few_shot_learning/match_net/results'\n",
    "dir_name = 'N5k1' # specify N and k for the N-way k-shot task\n",
    "\n",
    "y_dim = int(re.search('N([0-9]+)k[0-9]+', dir_name).group(1)) # N: possible classes\n",
    "n_samples_per_class = int(re.search('N[0-9]+k([0-9]+)', dir_name).group(1)) # k: samples of each class\n",
    "n_samples = y_dim * n_samples_per_class # total number of labeled samples\n",
    "\n",
    "drawing_per_char = 20 # number of drawing per character, 20 for omniglot\n",
    "x_dim = 28  # size of one side of square image\n",
    "n_iteration = 100000\n",
    "Batch_Size = 32\n",
    "learning_rate = 4e-5\n",
    "\n",
    "## Not used\n",
    "tie = False # tie the weights of the query network to the labeled network\n",
    "x_i_learn = True # toggle learning for the query network"
   ]
  },
  {
   "cell_type": "markdown",
   "metadata": {},
   "source": [
    "## (1) Data Preparation and Visualization"
   ]
  },
  {
   "cell_type": "code",
   "execution_count": 3,
   "metadata": {
    "collapsed": true
   },
   "outputs": [],
   "source": [
    "import matplotlib.pyplot as plt\n",
    "import matplotlib.gridspec as gridspec\n",
    "%matplotlib inline\n",
    "\n",
    "def plot(samples, n_row, n_col):\n",
    "    fig = plt.figure(figsize=(n_col*2, n_row*2))\n",
    "    gs = gridspec.GridSpec(n_row, n_col)\n",
    "    gs.update(wspace=0.05, hspace=0.05)\n",
    "    for i, sample in enumerate(samples):\n",
    "        ax = plt.subplot(gs[i])\n",
    "        plt.axis('off')\n",
    "        ax.set_xticklabels([])\n",
    "        ax.set_yticklabels([])\n",
    "        ax.set_aspect('equal')\n",
    "        plt.imshow(sample.reshape(x_dim, x_dim), cmap='gray')\n",
    "    return fig"
   ]
  },
  {
   "cell_type": "code",
   "execution_count": 4,
   "metadata": {
    "collapsed": true
   },
   "outputs": [],
   "source": [
    "arr = np.arange(1623)\n",
    "np.random.shuffle(arr)"
   ]
  },
  {
   "cell_type": "code",
   "execution_count": 5,
   "metadata": {},
   "outputs": [
    {
     "name": "stdout",
     "output_type": "stream",
     "text": [
      "(1623, 2)\n",
      "1623\n"
     ]
    }
   ],
   "source": [
    "## make filepath-label array.\n",
    "## E.g., [['/data/put_data/cclin/datasets/omniglot/python/images_all/Alphabet_of_the_Magi/character01', 0],\n",
    "##        ['/data/put_data/cclin/datasets/omniglot/python/images_all/Alphabet_of_the_Magi/character02', 1],\n",
    "##        ...,\n",
    "##        ['/data/put_data/cclin/datasets/omniglot/python/images_all/ULOG/character26', 1622]]\n",
    "## shape: (1623, 2)\n",
    "label_idx = 0\n",
    "list_all = []\n",
    "alphabet_list = np.sort(os.listdir(image_path))\n",
    "for alphabet in alphabet_list:\n",
    "    alphabet_path = os.path.join(image_path, alphabet)\n",
    "    char_list = np.sort(os.listdir(alphabet_path))\n",
    "    for char in char_list:\n",
    "        char_path = os.path.join(image_path, alphabet, char)\n",
    "        list_all.append([os.path.join(image_path, alphabet, char), label_idx])\n",
    "        label_idx = label_idx + 1\n",
    "list_all = np.asarray(list_all)\n",
    "print(list_all.shape)\n",
    "print(len(np.unique(list_all[:,1])))"
   ]
  },
  {
   "cell_type": "code",
   "execution_count": 6,
   "metadata": {},
   "outputs": [
    {
     "name": "stdout",
     "output_type": "stream",
     "text": [
      "First 10 training labels: [ 585 1567  524  178 1164  816 1439   41  732 1488]\n",
      "    /data/put_data/cclin/datasets/omniglot/python/images_all/Grantha/character10\n",
      "    /data/put_data/cclin/datasets/omniglot/python/images_all/Tifinagh/character26\n",
      "    /data/put_data/cclin/datasets/omniglot/python/images_all/Ge_ez/character20\n",
      "    /data/put_data/cclin/datasets/omniglot/python/images_all/Atemayar_Qelisayer/character03\n",
      "    /data/put_data/cclin/datasets/omniglot/python/images_all/Mkhedruli_(Georgian)/character32\n",
      "    /data/put_data/cclin/datasets/omniglot/python/images_all/Japanese_(hiragana)/character43\n",
      "    /data/put_data/cclin/datasets/omniglot/python/images_all/Syriac_(Serto)/character05\n",
      "    /data/put_data/cclin/datasets/omniglot/python/images_all/Anglo-Saxon_Futhorc/character02\n",
      "    /data/put_data/cclin/datasets/omniglot/python/images_all/Gurmukhi/character42\n",
      "    /data/put_data/cclin/datasets/omniglot/python/images_all/Tengwar/character14\n",
      "First 10 testing labels: [ 738 1362 1295 1363  302  491 1235 1284   70  743]\n",
      "    /data/put_data/cclin/datasets/omniglot/python/images_all/Hebrew/character03\n",
      "    /data/put_data/cclin/datasets/omniglot/python/images_all/Sanskrit/character21\n",
      "    /data/put_data/cclin/datasets/omniglot/python/images_all/Old_Church_Slavonic_(Cyrillic)/character45\n",
      "    /data/put_data/cclin/datasets/omniglot/python/images_all/Sanskrit/character22\n",
      "    /data/put_data/cclin/datasets/omniglot/python/images_all/Balinese/character23\n",
      "    /data/put_data/cclin/datasets/omniglot/python/images_all/Futurama/character13\n",
      "    /data/put_data/cclin/datasets/omniglot/python/images_all/N_Ko/character32\n",
      "    /data/put_data/cclin/datasets/omniglot/python/images_all/Old_Church_Slavonic_(Cyrillic)/character34\n",
      "    /data/put_data/cclin/datasets/omniglot/python/images_all/Arcadian/character02\n",
      "    /data/put_data/cclin/datasets/omniglot/python/images_all/Hebrew/character08\n"
     ]
    }
   ],
   "source": [
    "## randomly choose 1200 characters for training\n",
    "## note: 'arr' is a randomly shuffled list containing {0, 1, ..., 1622}\n",
    "keys_train = arr[:1200]\n",
    "print('First 10 training labels: %s' % keys_train[:10])\n",
    "for i in range(10):\n",
    "    print('    %s' % list_all[keys_train[i]][0])\n",
    "keys_test = arr[1200:]\n",
    "print('First 10 testing labels: %s' % keys_test[:10])\n",
    "for i in range(10):\n",
    "    print('    %s' % list_all[keys_test[i]][0])"
   ]
  },
  {
   "cell_type": "code",
   "execution_count": 7,
   "metadata": {},
   "outputs": [
    {
     "data": {
      "image/png": "[encoded data removed]",
      "text/plain": [
       "<matplotlib.figure.Figure at 0x7f198e9f5ac8>"
      ]
     },
     "metadata": {},
     "output_type": "display_data"
    },
    {
     "data": {
      "image/png": "[encoded data removed]",
      "text/plain": [
       "<matplotlib.figure.Figure at 0x7f198ea3cf60>"
      ]
     },
     "metadata": {},
     "output_type": "display_data"
    }
   ],
   "source": [
    "## show some examples (resize to 28x28)\n",
    "images = []\n",
    "for i in range(10):\n",
    "    image_list = np.sort(glob.glob(os.path.join(list_all[keys_train[i]][0], '*.png')))\n",
    "    ### note: both get_image() and transform() are from utils.py\n",
    "    images.append(transform(get_image(image_list[0]), 105, 105, resize_height=x_dim, resize_width=x_dim, crop=False))\n",
    "fig = plot(images, 2, 5)\n",
    "fig.suptitle('Training examples')\n",
    "fig.show()\n",
    "\n",
    "images = []\n",
    "for i in range(10):\n",
    "    image_list = np.sort(glob.glob(os.path.join(list_all[keys_test[i]][0], '*.png')))\n",
    "    ### note: both get_image() and transform() are from utils.py\n",
    "    images.append(transform(get_image(image_list[0]), 105, 105, resize_height=x_dim, resize_width=x_dim, crop=False))\n",
    "fig = plot(images, 2, 5)\n",
    "fig.suptitle('Testing examples')\n",
    "fig.show()"
   ]
  },
  {
   "cell_type": "code",
   "execution_count": null,
   "metadata": {},
   "outputs": [
    {
     "name": "stdout",
     "output_type": "stream",
     "text": [
      "[['/data/put_data/cclin/datasets/omniglot/python/images_all/Grantha/character10'\n",
      "  '585']\n",
      " ['/data/put_data/cclin/datasets/omniglot/python/images_all/Tifinagh/character26'\n",
      "  '1567']\n",
      " ['/data/put_data/cclin/datasets/omniglot/python/images_all/Ge_ez/character20'\n",
      "  '524']\n",
      " ...\n",
      " ['/data/put_data/cclin/datasets/omniglot/python/images_all/Tifinagh/character52'\n",
      "  '1593']\n",
      " ['/data/put_data/cclin/datasets/omniglot/python/images_all/Burmese_(Myanmar)/character05'\n",
      "  '394']\n",
      " ['/data/put_data/cclin/datasets/omniglot/python/images_all/Mkhedruli_(Georgian)/character17'\n",
      "  '1149']]\n",
      "['585' '1567' '524' ... '1593' '394' '1149']\n",
      "1200\n"
     ]
    }
   ],
   "source": [
    "## use data format 2, with two lists (training and testing)\n",
    "list_train = list_all[keys_train]\n",
    "list_test = list_all[keys_test]\n",
    "print(list_train)\n",
    "print(list_train[:,1])\n",
    "print(list_train.shape[0])"
   ]
  },
  {
   "cell_type": "markdown",
   "metadata": {},
   "source": [
    "## (2) Training"
   ]
  },
  {
   "cell_type": "code",
   "execution_count": null,
   "metadata": {
    "scrolled": true
   },
   "outputs": [
    {
     "name": "stdout",
     "output_type": "stream",
     "text": [
      "ite: 100 | train_loss: 1.1492 | train_acc: 0.5938 | test_loss: 1.2790 | test_acc: 0.4375\n",
      "ite: 200 | train_loss: 1.0061 | train_acc: 0.6562 | test_loss: 0.9930 | test_acc: 0.6250\n",
      "ite: 300 | train_loss: 0.9479 | train_acc: 0.6562 | test_loss: 0.9199 | test_acc: 0.6875\n",
      "ite: 400 | train_loss: 0.6294 | train_acc: 0.8750 | test_loss: 0.6488 | test_acc: 0.8438\n",
      "ite: 500 | train_loss: 0.7587 | train_acc: 0.6562 | test_loss: 0.6564 | test_acc: 0.7812\n",
      "ite: 600 | train_loss: 0.8172 | train_acc: 0.7188 | test_loss: 0.7479 | test_acc: 0.6875\n",
      "ite: 700 | train_loss: 0.9675 | train_acc: 0.5938 | test_loss: 0.9461 | test_acc: 0.5938\n",
      "ite: 800 | train_loss: 0.6909 | train_acc: 0.7812 | test_loss: 0.7305 | test_acc: 0.7500\n",
      "ite: 900 | train_loss: 0.7611 | train_acc: 0.7812 | test_loss: 0.8210 | test_acc: 0.6875\n",
      "ite: 1000 | train_loss: 0.7134 | train_acc: 0.6875 | test_loss: 0.9800 | test_acc: 0.5938\n",
      "ite: 1100 | train_loss: 0.6469 | train_acc: 0.8125 | test_loss: 0.8340 | test_acc: 0.6250\n",
      "ite: 1200 | train_loss: 0.6007 | train_acc: 0.7812 | test_loss: 0.4822 | test_acc: 0.8438\n",
      "ite: 1300 | train_loss: 0.6717 | train_acc: 0.8125 | test_loss: 0.5455 | test_acc: 0.8750\n",
      "ite: 1400 | train_loss: 0.5843 | train_acc: 0.8438 | test_loss: 0.8233 | test_acc: 0.6875\n",
      "ite: 1500 | train_loss: 0.6287 | train_acc: 0.7812 | test_loss: 0.8667 | test_acc: 0.6562\n",
      "ite: 1600 | train_loss: 0.6492 | train_acc: 0.8125 | test_loss: 0.5608 | test_acc: 0.8438\n",
      "ite: 1700 | train_loss: 0.5351 | train_acc: 0.8750 | test_loss: 0.7783 | test_acc: 0.6875\n",
      "ite: 1800 | train_loss: 0.6125 | train_acc: 0.8438 | test_loss: 0.6267 | test_acc: 0.7812\n",
      "ite: 1900 | train_loss: 0.6538 | train_acc: 0.6875 | test_loss: 0.5053 | test_acc: 0.8750\n",
      "ite: 2000 | train_loss: 0.6094 | train_acc: 0.7812 | test_loss: 0.8099 | test_acc: 0.6250\n",
      "ite: 2100 | train_loss: 0.4019 | train_acc: 0.9375 | test_loss: 0.6443 | test_acc: 0.7812\n",
      "ite: 2200 | train_loss: 0.5388 | train_acc: 0.8438 | test_loss: 0.4028 | test_acc: 0.9062\n",
      "ite: 2300 | train_loss: 0.5458 | train_acc: 0.8125 | test_loss: 0.6043 | test_acc: 0.7188\n",
      "ite: 2400 | train_loss: 0.6692 | train_acc: 0.7500 | test_loss: 0.5594 | test_acc: 0.7500\n",
      "ite: 2500 | train_loss: 0.4925 | train_acc: 0.8438 | test_loss: 0.4131 | test_acc: 0.9062\n",
      "ite: 2600 | train_loss: 0.4920 | train_acc: 0.8750 | test_loss: 0.4741 | test_acc: 0.8125\n",
      "ite: 2700 | train_loss: 0.6304 | train_acc: 0.8125 | test_loss: 0.6142 | test_acc: 0.8438\n",
      "ite: 2800 | train_loss: 0.5073 | train_acc: 0.8750 | test_loss: 0.6875 | test_acc: 0.8125\n",
      "ite: 2900 | train_loss: 0.4826 | train_acc: 0.9062 | test_loss: 0.4964 | test_acc: 0.8125\n",
      "ite: 3000 | train_loss: 0.6143 | train_acc: 0.7500 | test_loss: 0.5230 | test_acc: 0.9062\n",
      "ite: 3100 | train_loss: 0.6757 | train_acc: 0.7500 | test_loss: 0.3943 | test_acc: 0.8438\n",
      "ite: 3200 | train_loss: 0.4595 | train_acc: 0.9062 | test_loss: 0.4656 | test_acc: 0.8438\n",
      "ite: 3300 | train_loss: 0.4714 | train_acc: 0.8750 | test_loss: 0.5323 | test_acc: 0.8438\n",
      "ite: 3400 | train_loss: 0.4097 | train_acc: 0.9062 | test_loss: 0.9491 | test_acc: 0.7188\n",
      "ite: 3500 | train_loss: 0.5402 | train_acc: 0.7500 | test_loss: 0.6635 | test_acc: 0.7812\n",
      "ite: 3600 | train_loss: 0.4707 | train_acc: 0.9062 | test_loss: 0.4917 | test_acc: 0.8438\n",
      "ite: 3700 | train_loss: 0.4222 | train_acc: 0.9062 | test_loss: 0.4594 | test_acc: 0.7812\n",
      "ite: 3800 | train_loss: 0.5036 | train_acc: 0.7812 | test_loss: 0.4879 | test_acc: 0.8125\n",
      "ite: 3900 | train_loss: 0.2841 | train_acc: 0.9062 | test_loss: 0.6725 | test_acc: 0.9062\n",
      "ite: 4000 | train_loss: 0.3652 | train_acc: 0.8750 | test_loss: 0.6682 | test_acc: 0.7500\n",
      "ite: 4100 | train_loss: 0.5194 | train_acc: 0.8125 | test_loss: 0.6174 | test_acc: 0.8125\n",
      "ite: 4200 | train_loss: 0.4193 | train_acc: 0.8125 | test_loss: 0.6165 | test_acc: 0.7500\n",
      "ite: 4300 | train_loss: 0.4914 | train_acc: 0.7500 | test_loss: 0.4280 | test_acc: 0.8750\n",
      "ite: 4400 | train_loss: 0.4940 | train_acc: 0.8125 | test_loss: 0.4604 | test_acc: 0.7812\n",
      "ite: 4500 | train_loss: 0.4892 | train_acc: 0.8750 | test_loss: 0.5114 | test_acc: 0.8438\n",
      "ite: 4600 | train_loss: 0.4744 | train_acc: 0.8125 | test_loss: 0.4176 | test_acc: 0.9062\n",
      "ite: 4700 | train_loss: 0.4112 | train_acc: 0.8438 | test_loss: 0.3143 | test_acc: 0.9062\n",
      "ite: 4800 | train_loss: 0.8025 | train_acc: 0.7500 | test_loss: 0.4821 | test_acc: 0.8438\n",
      "ite: 4900 | train_loss: 0.5869 | train_acc: 0.8438 | test_loss: 0.4440 | test_acc: 0.8125\n",
      "ite: 5000 | train_loss: 0.3539 | train_acc: 0.9062 | test_loss: 0.4099 | test_acc: 0.9062\n",
      "ite: 5100 | train_loss: 0.6843 | train_acc: 0.7188 | test_loss: 0.4838 | test_acc: 0.8750\n",
      "ite: 5200 | train_loss: 0.5469 | train_acc: 0.8125 | test_loss: 0.4120 | test_acc: 0.8750\n",
      "ite: 5300 | train_loss: 0.3847 | train_acc: 0.8438 | test_loss: 0.3620 | test_acc: 0.8750\n",
      "ite: 5400 | train_loss: 0.5215 | train_acc: 0.7500 | test_loss: 0.3199 | test_acc: 0.9062\n",
      "ite: 5500 | train_loss: 0.6347 | train_acc: 0.8125 | test_loss: 0.4163 | test_acc: 0.9062\n",
      "ite: 5600 | train_loss: 0.4372 | train_acc: 0.8438 | test_loss: 0.3976 | test_acc: 0.8438\n",
      "ite: 5700 | train_loss: 0.4605 | train_acc: 0.8438 | test_loss: 0.5001 | test_acc: 0.7812\n",
      "ite: 5800 | train_loss: 0.5706 | train_acc: 0.7500 | test_loss: 0.4941 | test_acc: 0.7812\n",
      "ite: 5900 | train_loss: 0.5510 | train_acc: 0.8125 | test_loss: 0.2966 | test_acc: 0.9375\n",
      "ite: 6000 | train_loss: 0.3657 | train_acc: 0.9062 | test_loss: 0.4992 | test_acc: 0.8750\n",
      "ite: 6100 | train_loss: 0.5172 | train_acc: 0.8125 | test_loss: 0.4754 | test_acc: 0.7812\n",
      "ite: 6200 | train_loss: 0.5379 | train_acc: 0.7812 | test_loss: 0.3605 | test_acc: 0.8438\n",
      "ite: 6300 | train_loss: 0.5802 | train_acc: 0.8125 | test_loss: 0.3729 | test_acc: 0.8438\n",
      "ite: 6400 | train_loss: 0.4316 | train_acc: 0.8750 | test_loss: 0.3662 | test_acc: 0.8750\n",
      "ite: 6500 | train_loss: 0.3930 | train_acc: 0.9062 | test_loss: 0.4402 | test_acc: 0.8750\n",
      "ite: 6600 | train_loss: 0.5304 | train_acc: 0.7812 | test_loss: 0.4963 | test_acc: 0.8125\n",
      "ite: 6700 | train_loss: 0.5543 | train_acc: 0.7812 | test_loss: 0.3638 | test_acc: 0.8438\n",
      "ite: 6800 | train_loss: 0.4085 | train_acc: 0.9062 | test_loss: 0.6745 | test_acc: 0.8438\n",
      "ite: 6900 | train_loss: 0.5088 | train_acc: 0.8438 | test_loss: 0.3812 | test_acc: 0.8750\n",
      "ite: 7000 | train_loss: 0.5137 | train_acc: 0.8438 | test_loss: 0.2860 | test_acc: 0.9375\n",
      "ite: 7100 | train_loss: 0.6511 | train_acc: 0.8750 | test_loss: 0.5633 | test_acc: 0.8438\n",
      "ite: 7200 | train_loss: 0.5069 | train_acc: 0.8125 | test_loss: 0.4307 | test_acc: 0.8750\n",
      "ite: 7300 | train_loss: 0.3572 | train_acc: 0.8750 | test_loss: 0.3260 | test_acc: 0.9375\n",
      "ite: 7400 | train_loss: 0.3917 | train_acc: 0.8438 | test_loss: 0.5165 | test_acc: 0.8125\n",
      "ite: 7500 | train_loss: 0.6387 | train_acc: 0.7188 | test_loss: 0.4646 | test_acc: 0.8750\n",
      "ite: 7600 | train_loss: 0.2367 | train_acc: 0.9375 | test_loss: 0.6235 | test_acc: 0.7188\n",
      "ite: 7700 | train_loss: 0.3164 | train_acc: 0.9375 | test_loss: 0.4637 | test_acc: 0.8750\n",
      "ite: 7800 | train_loss: 0.4189 | train_acc: 0.9062 | test_loss: 0.2681 | test_acc: 0.9688\n",
      "ite: 7900 | train_loss: 0.2829 | train_acc: 0.9062 | test_loss: 0.3351 | test_acc: 0.9375\n",
      "ite: 8000 | train_loss: 0.3753 | train_acc: 0.9062 | test_loss: 0.2950 | test_acc: 0.9375\n",
      "ite: 8100 | train_loss: 0.4147 | train_acc: 0.9062 | test_loss: 0.3751 | test_acc: 0.8125\n",
      "ite: 8200 | train_loss: 0.3790 | train_acc: 0.8438 | test_loss: 0.2899 | test_acc: 0.9375\n"
     ]
    }
   ],
   "source": [
    "tf.reset_default_graph()\n",
    "\n",
    "with tf.Session() as sess:\n",
    "    net = MATCH_NET(sess,\n",
    "                    result_path=result_path,\n",
    "                    model_name=dir_name,\n",
    "                    y_dim=y_dim,\n",
    "                    n_samples_per_class=n_samples_per_class,\n",
    "                    drawing_per_char=drawing_per_char)\n",
    "    net.build_model()\n",
    "    results = net.train(list_train=list_train,\n",
    "                        list_test=list_test,\n",
    "                        n_iteration=n_iteration,\n",
    "                        bsize=Batch_Size,\n",
    "                        learning_rate_start=learning_rate)"
   ]
  },
  {
   "cell_type": "markdown",
   "metadata": {
    "collapsed": true
   },
   "source": [
    "## (3) Inference"
   ]
  },
  {
   "cell_type": "code",
   "execution_count": null,
   "metadata": {
    "collapsed": true
   },
   "outputs": [],
   "source": [
    "tf.reset_default_graph()\n",
    "\n",
    "with tf.Session() as sess:\n",
    "    net = MATCH_NET(sess,\n",
    "                    result_path=result_path,\n",
    "                    model_name=dir_name,\n",
    "                    y_dim=y_dim,\n",
    "                    n_samples_per_class=n_samples_per_class,\n",
    "                    drawing_per_char=drawing_per_char)\n",
    "    net.build_model()\n",
    "    results = net.inference(list_test=list_test,\n",
    "                            n_iteration=1000,\n",
    "                            gen_from=os.path.join(result_path, dir_name, 'models'),\n",
    "#                             gen_from_ckpt=dir_name+'.model-210',\n",
    "#                             out_path=os.path.join('/data/put_data/cclin/ntu/dlcv2018/hw4/results', dir_name),\n",
    "                            bsize=Batch_Size*10)"
   ]
  }
 ],
 "metadata": {
  "kernelspec": {
   "display_name": "Python 3",
   "language": "python",
   "name": "python3"
  },
  "language_info": {
   "codemirror_mode": {
    "name": "ipython",
    "version": 3
   },
   "file_extension": ".py",
   "mimetype": "text/x-python",
   "name": "python",
   "nbconvert_exporter": "python",
   "pygments_lexer": "ipython3",
   "version": "3.5.2"
  }
 },
 "nbformat": 4,
 "nbformat_minor": 2
}
